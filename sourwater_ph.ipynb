{
 "cells": [
  {
   "cell_type": "code",
   "execution_count": 10,
   "metadata": {},
   "outputs": [
    {
     "name": "stdout",
     "output_type": "stream",
     "text": [
      "Requirement already satisfied: pandas in c:\\users\\26005064\\desktop\\t-ii gpt\\.venv\\lib\\site-packages (2.0.1)\n",
      "Collecting openpyxl\n",
      "  Using cached openpyxl-3.1.2-py2.py3-none-any.whl (249 kB)\n",
      "Requirement already satisfied: python-dateutil>=2.8.2 in c:\\users\\26005064\\desktop\\t-ii gpt\\.venv\\lib\\site-packages (from pandas) (2.8.2)\n",
      "Requirement already satisfied: pytz>=2020.1 in c:\\users\\26005064\\desktop\\t-ii gpt\\.venv\\lib\\site-packages (from pandas) (2023.3)\n",
      "Requirement already satisfied: tzdata>=2022.1 in c:\\users\\26005064\\desktop\\t-ii gpt\\.venv\\lib\\site-packages (from pandas) (2023.3)\n",
      "Requirement already satisfied: numpy>=1.21.0 in c:\\users\\26005064\\desktop\\t-ii gpt\\.venv\\lib\\site-packages (from pandas) (1.23.5)\n",
      "Collecting et-xmlfile (from openpyxl)\n",
      "  Using cached et_xmlfile-1.1.0-py3-none-any.whl (4.7 kB)\n",
      "Requirement already satisfied: six>=1.5 in c:\\users\\26005064\\desktop\\t-ii gpt\\.venv\\lib\\site-packages (from python-dateutil>=2.8.2->pandas) (1.16.0)\n",
      "Installing collected packages: et-xmlfile, openpyxl\n",
      "Successfully installed et-xmlfile-1.1.0 openpyxl-3.1.2\n"
     ]
    },
    {
     "name": "stderr",
     "output_type": "stream",
     "text": [
      "\n",
      "[notice] A new release of pip is available: 23.1.2 -> 23.2.1\n",
      "[notice] To update, run: python.exe -m pip install --upgrade pip\n"
     ]
    }
   ],
   "source": [
    "import pandas as pd\n",
    "!pip install pandas openpyxl"
   ]
  },
  {
   "cell_type": "code",
   "execution_count": 11,
   "metadata": {},
   "outputs": [
    {
     "name": "stdout",
     "output_type": "stream",
     "text": [
      "                 UNITS Crude inlet V1001 Unnamed: 2 Unnamed: 3 Unnamed: 4   \n",
      "0                  NaN               NaN        NaN        NaN        NaN  \\\n",
      "1           Parameters              Salt       BS&W   Sediment      Water   \n",
      "2                UNITS               ppm       %vol       %vol       %vol   \n",
      "3  2022-12-04 05:00:00            5.9595       0.01       0.01          0   \n",
      "4  2022-12-05 05:00:00            7.8091       0.01        0.1          0   \n",
      "\n",
      "  Unnamed: 5 Crude outlet V1001 Unnamed: 7 Unnamed: 8 Unnamed: 9  ...   \n",
      "0        NaN                NaN        NaN        NaN        NaN  ...  \\\n",
      "1         FS               Salt       BS&W   Sediment      Water  ...   \n",
      "2        ppm                ppm       %vol       %vol       %vol  ...   \n",
      "3        540             3.0825       0.01       0.01       0.01  ...   \n",
      "4        550             1.4385       0.01       0.01          0  ...   \n",
      "\n",
      "  Unnamed: 102 Unnamed: 103 Unnamed: 104 Unnamed: 105 Unnamed: 106   \n",
      "0          NaN          NaN          NaN          NaN          NaN  \\\n",
      "1  Totoal iron   Oil&Grease          NaN          NaN          NaN   \n",
      "2          ppm          ppm      Evident        Actio          NaN   \n",
      "3          NaN          NaN          NaN          NaN          NaN   \n",
      "4          NaN          NaN          NaN          NaN          NaN   \n",
      "\n",
      "  Unnamed: 107 Unnamed: 108 Unnamed: 109 Unnamed: 110 Unnamed: 111  \n",
      "0          NaN          NaN          NaN          NaN          NaN  \n",
      "1          NaN          NaN          NaN          NaN          NaN  \n",
      "2          NaN          NaN          NaN          NaN          NaN  \n",
      "3          NaN          NaN          NaN          NaN          NaN  \n",
      "4          NaN          NaN          NaN          NaN          NaN  \n",
      "\n",
      "[5 rows x 112 columns]\n"
     ]
    }
   ],
   "source": [
    "\n",
    "# Read the Excel file\n",
    "file_path = r\"C:\\Users\\26005064\\OneDrive - PTT Global Chemical Public Company Limited\\DATA\\Nut\\FiT, T-II, Digital Projects\\Sour water pH analysis\\MERO_Stripped water low pH.xlsx\"\n",
    "df = pd.read_excel(file_path, engine='openpyxl')\n",
    "\n",
    "# Display the first 5 rows of the dataframe\n",
    "print(df.head())"
   ]
  },
  {
   "cell_type": "code",
   "execution_count": 15,
   "metadata": {},
   "outputs": [
    {
     "name": "stdout",
     "output_type": "stream",
     "text": [
      "    Stripped sour water C2401 Unnamed: 23 Unnamed: 24 Unnamed: 25 Unnamed: 26   \n",
      "0                         NaN         NaN         NaN         NaN         NaN  \\\n",
      "1                          pH     Ammonia     Sulfide    Chloride        Iron   \n",
      "2                         NaN         ppm         ppm         ppm         ppm   \n",
      "3                         NaN         NaN         NaN         NaN         NaN   \n",
      "4                        5.02           6       0.045         2.2        2.63   \n",
      "..                        ...         ...         ...         ...         ...   \n",
      "285                      8.51          74        0.04      4.4312       0.101   \n",
      "286                         -           -           -        6.91           -   \n",
      "287                      8.68           -           -        3.72           -   \n",
      "288                         9          90        0.02      6.9127       0.208   \n",
      "289                      8.67           -           -      4.4512           -   \n",
      "\n",
      "    Unnamed: 27 Unnamed: 28  \n",
      "0           NaN         NaN  \n",
      "1    Oil&Grease          DO  \n",
      "2           ppm         ppm  \n",
      "3           NaN         NaN  \n",
      "4             0           7  \n",
      "..          ...         ...  \n",
      "285           -           -  \n",
      "286           -           -  \n",
      "287           -           -  \n",
      "288           -           -  \n",
      "289           -           -  \n",
      "\n",
      "[290 rows x 7 columns]\n"
     ]
    }
   ],
   "source": [
    "df_sourwater = df.iloc[:, 22:29]\n",
    "print(df_sourwater)"
   ]
  },
  {
   "cell_type": "code",
   "execution_count": null,
   "metadata": {},
   "outputs": [],
   "source": [
    "df"
   ]
  },
  {
   "cell_type": "code",
   "execution_count": 17,
   "metadata": {},
   "outputs": [
    {
     "name": "stdout",
     "output_type": "stream",
     "text": [
      "    CDU Overhead V1051 Unnamed: 30 Unnamed: 31 Unnamed: 32 Unnamed: 33   \n",
      "0                  NaN         NaN         NaN         NaN         NaN  \\\n",
      "1                   pH  Oil&Grease     Ammonia     Sulfide    Chloride   \n",
      "2                  NaN         ppm         ppm         ppm         ppm   \n",
      "3                  NaN         NaN         NaN         NaN         NaN   \n",
      "4                  NaN         NaN         NaN         NaN         NaN   \n",
      "..                 ...         ...         ...         ...         ...   \n",
      "285               7.89          95         137         230      5.8492   \n",
      "286                  -           -           -           -        4.43   \n",
      "287                8.6          41         500         180        3.72   \n",
      "288               8.59          16        1310         317          25   \n",
      "289                  -           -           -           -      4.3942   \n",
      "\n",
      "    Unnamed: 34    Unnamed: 35  \n",
      "0           NaN            NaN  \n",
      "1          Iron     Appearance  \n",
      "2           ppm            NaN  \n",
      "3           NaN            NaN  \n",
      "4           NaN            NaN  \n",
      "..          ...            ...  \n",
      "285       0.096  Less Emulsion  \n",
      "286           -            NaN  \n",
      "287       0.373       Emulsion  \n",
      "288        0.35       Emulsion  \n",
      "289           -  Less Emulsion  \n",
      "\n",
      "[290 rows x 7 columns]\n"
     ]
    }
   ],
   "source": [
    "df_cdu = df.iloc[:,29:36]\n",
    "print(df_cdu)"
   ]
  }
 ],
 "metadata": {
  "kernelspec": {
   "display_name": "Python 3 (ipykernel)",
   "language": "python",
   "name": "python3"
  },
  "language_info": {
   "codemirror_mode": {
    "name": "ipython",
    "version": 3
   },
   "file_extension": ".py",
   "mimetype": "text/x-python",
   "name": "python",
   "nbconvert_exporter": "python",
   "pygments_lexer": "ipython3",
   "version": "3.10.7"
  }
 },
 "nbformat": 4,
 "nbformat_minor": 4
}
